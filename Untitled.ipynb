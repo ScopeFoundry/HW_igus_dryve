{
 "cells": [
  {
   "cell_type": "code",
   "execution_count": 1,
   "id": "648a04ff",
   "metadata": {},
   "outputs": [],
   "source": [
    "from igus_dryveD1 import IgusDryveD1"
   ]
  },
  {
   "cell_type": "code",
   "execution_count": 2,
   "id": "502cbd7a",
   "metadata": {
    "scrolled": false
   },
   "outputs": [
    {
     "name": "stdout",
     "output_type": "stream",
     "text": [
      "Socket created\n",
      "[0, 0, 0, 0, 0, 13, 0, 43, 13, 1, 0, 0, 96, 64, 0, 0, 0, 0, 0]\n",
      "[0, 0, 0, 0, 0, 11, 0, 171, 255, 0, 6, 13, 206, 0, 0, 2, 6]\n",
      "[0, 0, 0, 0, 0, 11, 0, 171, 255, 0, 6, 13, 206, 0, 0, 2, 6]\n",
      "[0, 0, 0, 0, 0, 13, 0, 43, 13, 1, 0, 0, 96, 146, 2, 0, 0, 0, 0]\n",
      "[0, 0, 0, 0, 0, 17, 0, 43, 13, 0, 0, 0, 96, 146, 1, 0, 0, 0, 4, 0, 0, 0, 0]\n"
     ]
    },
    {
     "ename": "AttributeError",
     "evalue": "'IgusDryveD1' object has no attribute 'SI_unit_fact'",
     "output_type": "error",
     "traceback": [
      "\u001b[1;31m---------------------------------------------------------------------------\u001b[0m",
      "\u001b[1;31mAttributeError\u001b[0m                            Traceback (most recent call last)",
      "Input \u001b[1;32mIn [2]\u001b[0m, in \u001b[0;36m<cell line: 1>\u001b[1;34m()\u001b[0m\n\u001b[1;32m----> 1\u001b[0m \u001b[43mIgusDryveD1\u001b[49m\u001b[43m(\u001b[49m\u001b[38;5;124;43m\"\u001b[39;49m\u001b[38;5;124;43m192.168.0.15\u001b[39;49m\u001b[38;5;124;43m\"\u001b[39;49m\u001b[43m,\u001b[49m\u001b[43m \u001b[49m\u001b[38;5;241;43m502\u001b[39;49m\u001b[43m,\u001b[49m\u001b[43m \u001b[49m\u001b[38;5;124;43m'\u001b[39;49m\u001b[38;5;124;43mOber\u001b[39;49m\u001b[38;5;124;43m'\u001b[39;49m\u001b[43m,\u001b[49m\u001b[43m \u001b[49m\u001b[43mdebug\u001b[49m\u001b[38;5;241;43m=\u001b[39;49m\u001b[38;5;28;43;01mTrue\u001b[39;49;00m\u001b[43m)\u001b[49m\n",
      "File \u001b[1;32m~\\Documents\\foundry_scope\\ScopeFoundryHW\\igus_dryve\\igus_dryveD1.py:55\u001b[0m, in \u001b[0;36mIgusDryveD1.__init__\u001b[1;34m(self, IP_Adress, Port, Axis, debug)\u001b[0m\n\u001b[0;32m     53\u001b[0m \u001b[38;5;28mself\u001b[39m\u001b[38;5;241m.\u001b[39msendCommand(\u001b[38;5;28mbytearray\u001b[39m([\u001b[38;5;241m0\u001b[39m, \u001b[38;5;241m0\u001b[39m, \u001b[38;5;241m0\u001b[39m, \u001b[38;5;241m0\u001b[39m, \u001b[38;5;241m0\u001b[39m, \u001b[38;5;241m14\u001b[39m, \u001b[38;5;241m0\u001b[39m, \u001b[38;5;241m43\u001b[39m, \u001b[38;5;241m13\u001b[39m, \u001b[38;5;241m1\u001b[39m, \u001b[38;5;241m0\u001b[39m, \u001b[38;5;241m0\u001b[39m, \u001b[38;5;241m96\u001b[39m, \u001b[38;5;241m146\u001b[39m, \u001b[38;5;241m2\u001b[39m, \u001b[38;5;241m0\u001b[39m, \u001b[38;5;241m0\u001b[39m, \u001b[38;5;241m0\u001b[39m, \u001b[38;5;241m1\u001b[39m, \u001b[38;5;241m1\u001b[39m]))\n\u001b[0;32m     54\u001b[0m \u001b[38;5;66;03m# Read the feed rate from the D1 and convert it to integer [mm]\u001b[39;00m\n\u001b[1;32m---> 55\u001b[0m \u001b[38;5;28mself\u001b[39m\u001b[38;5;241m.\u001b[39mfeed_rate\u001b[38;5;241m=\u001b[39m(\u001b[38;5;28mint\u001b[39m\u001b[38;5;241m.\u001b[39mfrom_bytes(\u001b[38;5;28mself\u001b[39m\u001b[38;5;241m.\u001b[39msendCommand(\u001b[38;5;28mself\u001b[39m\u001b[38;5;241m.\u001b[39mfeedrate_array)[\u001b[38;5;241m19\u001b[39m:],byteorder\u001b[38;5;241m=\u001b[39m\u001b[38;5;124m'\u001b[39m\u001b[38;5;124mlittle\u001b[39m\u001b[38;5;124m'\u001b[39m))\u001b[38;5;241m/\u001b[39m\u001b[38;5;28;43mself\u001b[39;49m\u001b[38;5;241;43m.\u001b[39;49m\u001b[43mSI_unit_fact\u001b[49m\n",
      "\u001b[1;31mAttributeError\u001b[0m: 'IgusDryveD1' object has no attribute 'SI_unit_fact'"
     ]
    }
   ],
   "source": [
    "IgusDryveD1(\"192.168.0.15\", 502, 'Ober', debug=True)"
   ]
  },
  {
   "cell_type": "code",
   "execution_count": 1,
   "id": "0f34420a",
   "metadata": {},
   "outputs": [
    {
     "ename": "ValueError",
     "evalue": "byte must be in range(0, 256)",
     "output_type": "error",
     "traceback": [
      "\u001b[1;31m---------------------------------------------------------------------------\u001b[0m",
      "\u001b[1;31mValueError\u001b[0m                                Traceback (most recent call last)",
      "Input \u001b[1;32mIn [1]\u001b[0m, in \u001b[0;36m<cell line: 1>\u001b[1;34m()\u001b[0m\n\u001b[1;32m----> 1\u001b[0m \u001b[38;5;28;43mbytearray\u001b[39;49m\u001b[43m(\u001b[49m\u001b[43m[\u001b[49m\u001b[38;5;241;43m0x6041\u001b[39;49m\u001b[43m]\u001b[49m\u001b[43m)\u001b[49m\n",
      "\u001b[1;31mValueError\u001b[0m: byte must be in range(0, 256)"
     ]
    }
   ],
   "source": [
    "bytearray([0x6041])"
   ]
  },
  {
   "cell_type": "code",
   "execution_count": 5,
   "id": "9159c82f",
   "metadata": {},
   "outputs": [
    {
     "data": {
      "text/plain": [
       "'0x60'"
      ]
     },
     "execution_count": 5,
     "metadata": {},
     "output_type": "execute_result"
    }
   ],
   "source": [
    "hex(0x6041 >> 8)"
   ]
  },
  {
   "cell_type": "code",
   "execution_count": 7,
   "id": "96b59459",
   "metadata": {},
   "outputs": [
    {
     "data": {
      "text/plain": [
       "'0x41'"
      ]
     },
     "execution_count": 7,
     "metadata": {},
     "output_type": "execute_result"
    }
   ],
   "source": [
    "hex(0x6041 & 0x00FF)"
   ]
  },
  {
   "cell_type": "code",
   "execution_count": 11,
   "id": "0d29e385",
   "metadata": {},
   "outputs": [
    {
     "data": {
      "text/plain": [
       "bytearray(b'\\x00\\x01\\x02\\x03\\x04\\x05')"
      ]
     },
     "execution_count": 11,
     "metadata": {},
     "output_type": "execute_result"
    }
   ],
   "source": [
    "bytearray([0,1,2,3]) + (bytearray([4,5]))  + bytearray([])"
   ]
  },
  {
   "cell_type": "code",
   "execution_count": 15,
   "id": "6dde5b5c",
   "metadata": {},
   "outputs": [
    {
     "data": {
      "text/plain": [
       "1"
      ]
     },
     "execution_count": 15,
     "metadata": {},
     "output_type": "execute_result"
    }
   ],
   "source": [
    "0b100 >> 2"
   ]
  },
  {
   "cell_type": "code",
   "execution_count": null,
   "id": "9c0c3b0c",
   "metadata": {},
   "outputs": [],
   "source": []
  }
 ],
 "metadata": {
  "kernelspec": {
   "display_name": "Python 3 (ipykernel)",
   "language": "python",
   "name": "python3"
  },
  "language_info": {
   "codemirror_mode": {
    "name": "ipython",
    "version": 3
   },
   "file_extension": ".py",
   "mimetype": "text/x-python",
   "name": "python",
   "nbconvert_exporter": "python",
   "pygments_lexer": "ipython3",
   "version": "3.9.12"
  }
 },
 "nbformat": 4,
 "nbformat_minor": 5
}
